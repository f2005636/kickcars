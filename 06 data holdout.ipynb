{
 "cells": [
  {
   "cell_type": "code",
   "execution_count": 57,
   "metadata": {},
   "outputs": [],
   "source": [
    "import warnings\n",
    "warnings.filterwarnings(\"ignore\")\n",
    "import numpy as np\n",
    "import pandas as pd\n",
    "pd.set_option('display.max_columns', None)\n",
    "from sklearn.model_selection import GridSearchCV\n",
    "from sklearn.ensemble import RandomForestClassifier\n",
    "from sklearn.metrics import confusion_matrix, roc_auc_score"
   ]
  },
  {
   "cell_type": "markdown",
   "metadata": {
    "id": "IxMV0DNjRppJ"
   },
   "source": [
    "### 1. importing dataset\n",
    "* separating out x and y\n",
    "* adding monotonic constraints"
   ]
  },
  {
   "cell_type": "code",
   "execution_count": 58,
   "metadata": {},
   "outputs": [
    {
     "data": {
      "text/plain": [
       "(195, 12)"
      ]
     },
     "execution_count": 58,
     "metadata": {},
     "output_type": "execute_result"
    }
   ],
   "source": [
    "s0 = pd.read_csv('02 data split 0.csv')\n",
    "s1 = pd.read_csv('02 data split 1.csv')\n",
    "s2 = pd.read_csv('02 data split 2.csv')\n",
    "df = pd.concat([s0,s1,s2])\n",
    "df.shape"
   ]
  },
  {
   "cell_type": "markdown",
   "metadata": {},
   "source": [
    "### 2. creating dataset\n",
    "* using 10 variables\n",
    "* total combinaions 2^10"
   ]
  },
  {
   "cell_type": "code",
   "execution_count": 59,
   "metadata": {},
   "outputs": [],
   "source": [
    "Make2 = []\n",
    "WheelType2 = []\n",
    "MMRAcquisitionRetailAveragePrice2 = []\n",
    "MMRAcquisitonRetailCleanPrice2 = []\n",
    "MMRCurrentRetailAveragePrice2 = []\n",
    "MMRCurrentRetailCleanPrice2 = []\n",
    "VNST2 = []\n",
    "WarrantyCost2 = []\n",
    "VehicleAge_decades2 = []\n",
    "VehOdo_lakhs2 = []\n",
    "\n",
    "for Make1 in [1, -1]:\n",
    "    for WheelType1 in [1, -1]:\n",
    "        for MMRAcquisitionRetailAveragePrice1 in [0.664, 0.856]:\n",
    "            for MMRAcquisitonRetailCleanPrice1 in [0.581, 0.726]:\n",
    "                for MMRCurrentRetailAveragePrice1 in [0.681, 0.843]:\n",
    "                    for MMRCurrentRetailCleanPrice1 in [0.594, 0.712]:\n",
    "                        for VNST1 in [1, -1]:\n",
    "                            for WarrantyCost1 in [0.126, 0.263]:\n",
    "                                for VehicleAge_decades1 in [0.4, 0.6]:\n",
    "                                    for VehOdo_lakhs1 in [0.611, 0.807]:\n",
    "                                        \n",
    "                                        Make2.append(Make1)\n",
    "                                        WheelType2.append(WheelType1)\n",
    "                                        MMRAcquisitionRetailAveragePrice2.append(MMRAcquisitionRetailAveragePrice1)\n",
    "                                        MMRAcquisitonRetailCleanPrice2.append(MMRAcquisitonRetailCleanPrice1)\n",
    "                                        MMRCurrentRetailAveragePrice2.append(MMRCurrentRetailAveragePrice1)\n",
    "                                        MMRCurrentRetailCleanPrice2.append(MMRCurrentRetailCleanPrice1)\n",
    "                                        VNST2.append(VNST1)\n",
    "                                        WarrantyCost2.append(WarrantyCost1)\n",
    "                                        VehicleAge_decades2.append(VehicleAge_decades1)\n",
    "                                        VehOdo_lakhs2.append(VehOdo_lakhs1)"
   ]
  },
  {
   "cell_type": "code",
   "execution_count": 60,
   "metadata": {},
   "outputs": [
    {
     "data": {
      "text/plain": [
       "(1024, 11)"
      ]
     },
     "execution_count": 60,
     "metadata": {},
     "output_type": "execute_result"
    }
   ],
   "source": [
    "df = pd.DataFrame({'Make':Make2, 'WheelType':WheelType2, 'MMRAcquisitionRetailAveragePrice':MMRAcquisitionRetailAveragePrice2,\n",
    "                  'MMRAcquisitonRetailCleanPrice':MMRAcquisitonRetailCleanPrice2, 'MMRCurrentRetailAveragePrice':MMRCurrentRetailAveragePrice2,\n",
    "                  'MMRCurrentRetailCleanPrice':MMRCurrentRetailCleanPrice2, 'VNST':VNST2, 'WarrantyCost':WarrantyCost2,\n",
    "                  'VehicleAge_decades':VehicleAge_decades2, 'VehOdo_lakhs':VehOdo_lakhs2}).reset_index()\n",
    "df.shape"
   ]
  },
  {
   "cell_type": "markdown",
   "metadata": {},
   "source": [
    "### 3. exporting dataset\n",
    "* every 21th observation"
   ]
  },
  {
   "cell_type": "code",
   "execution_count": 61,
   "metadata": {},
   "outputs": [
    {
     "data": {
      "text/plain": [
       "(98, 10)"
      ]
     },
     "execution_count": 61,
     "metadata": {},
     "output_type": "execute_result"
    }
   ],
   "source": [
    "df0 = df[df['index']%21==5]\n",
    "df0 = df0.drop('index', axis=1)\n",
    "df1 = df[df['index']%21==14]\n",
    "df1 = df1.drop('index', axis=1)\n",
    "\n",
    "df = pd.concat([df0,df1])\n",
    "df.to_csv('06 data holdout.csv', index=False)\n",
    "df.shape"
   ]
  }
 ],
 "metadata": {
  "colab": {
   "provenance": []
  },
  "kernelspec": {
   "display_name": "base",
   "language": "python",
   "name": "python3"
  },
  "language_info": {
   "codemirror_mode": {
    "name": "ipython",
    "version": 3
   },
   "file_extension": ".py",
   "mimetype": "text/x-python",
   "name": "python",
   "nbconvert_exporter": "python",
   "pygments_lexer": "ipython3",
   "version": "3.11.5"
  }
 },
 "nbformat": 4,
 "nbformat_minor": 1
}
