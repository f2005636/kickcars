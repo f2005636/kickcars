{
 "cells": [
  {
   "cell_type": "code",
   "execution_count": 1,
   "metadata": {},
   "outputs": [],
   "source": [
    "import warnings\n",
    "warnings.filterwarnings(\"ignore\")\n",
    "import numpy as np\n",
    "import pandas as pd\n",
    "pd.set_option('display.max_columns', None)\n",
    "from sklearn.model_selection import GridSearchCV\n",
    "from sklearn.ensemble import RandomForestClassifier\n",
    "from sklearn.metrics import confusion_matrix, roc_auc_score"
   ]
  },
  {
   "cell_type": "markdown",
   "metadata": {
    "id": "IxMV0DNjRppJ"
   },
   "source": [
    "### 1. importing dataset\n",
    "* removed observations where IsBadBuy is missing\n",
    "* keeping relevant columns\n",
    "* ratio of acquisition cost paid for the vehicle at time of purchase is taken\n",
    "* converting categorical to numerical"
   ]
  },
  {
   "cell_type": "code",
   "execution_count": 2,
   "metadata": {},
   "outputs": [
    {
     "data": {
      "text/plain": [
       "(98, 13)"
      ]
     },
     "execution_count": 2,
     "metadata": {},
     "output_type": "execute_result"
    }
   ],
   "source": [
    "df = pd.read_csv('07 model holdout.csv')\n",
    "df = df[df['IsBadBuy'].notnull()]\n",
    "df = df[['RefId', 'IsBadBuy', 'VehBCost', 'Make', 'WheelType', 'MMRAcquisitionRetailAveragePrice', \n",
    "         'MMRAcquisitonRetailCleanPrice', 'MMRCurrentRetailAveragePrice', 'MMRCurrentRetailCleanPrice', \n",
    "         'VNST', 'WarrantyCost', 'VehicleAge', 'VehOdo']]\n",
    "df.shape"
   ]
  },
  {
   "cell_type": "code",
   "execution_count": 3,
   "metadata": {},
   "outputs": [
    {
     "data": {
      "text/plain": [
       "(98, 15)"
      ]
     },
     "execution_count": 3,
     "metadata": {},
     "output_type": "execute_result"
    }
   ],
   "source": [
    "df['MMRAcquisitionRetailAveragePrice'] = df['VehBCost'] / df['MMRAcquisitionRetailAveragePrice']\n",
    "df['MMRAcquisitionRetailAveragePrice'] = np.where(df['MMRAcquisitionRetailAveragePrice']==np.inf, np.nan, df['MMRAcquisitionRetailAveragePrice'])\n",
    "df['MMRAcquisitionRetailAveragePrice'] = df['MMRAcquisitionRetailAveragePrice'].fillna(df['MMRAcquisitionRetailAveragePrice'].mean())\n",
    "\n",
    "df['MMRAcquisitonRetailCleanPrice'] = df['VehBCost'] / df['MMRAcquisitonRetailCleanPrice']\n",
    "df['MMRAcquisitonRetailCleanPrice'] = np.where(df['MMRAcquisitonRetailCleanPrice']==np.inf, np.nan, df['MMRAcquisitonRetailCleanPrice'])\n",
    "df['MMRAcquisitonRetailCleanPrice'] = df['MMRAcquisitonRetailCleanPrice'].fillna(df['MMRAcquisitonRetailCleanPrice'].mean())\n",
    "\n",
    "df['MMRCurrentRetailAveragePrice'] = df['VehBCost'] / df['MMRCurrentRetailAveragePrice']\n",
    "df['MMRCurrentRetailAveragePrice'] = np.where(df['MMRCurrentRetailAveragePrice']==np.inf, np.nan, df['MMRCurrentRetailAveragePrice'])\n",
    "df['MMRCurrentRetailAveragePrice'] = df['MMRCurrentRetailAveragePrice'].fillna(df['MMRCurrentRetailAveragePrice'].mean())\n",
    "\n",
    "df['MMRCurrentRetailCleanPrice'] = df['VehBCost'] / df['MMRCurrentRetailCleanPrice']\n",
    "df['MMRCurrentRetailCleanPrice'] = np.where(df['MMRCurrentRetailCleanPrice']==np.inf, np.nan, df['MMRCurrentRetailCleanPrice'])\n",
    "df['MMRCurrentRetailCleanPrice'] = df['MMRCurrentRetailCleanPrice'].fillna(df['MMRCurrentRetailCleanPrice'].mean())\n",
    "\n",
    "df['WarrantyCost'] = df['WarrantyCost'] / df['VehBCost']\n",
    "df['WarrantyCost'] = np.where(df['WarrantyCost']==np.inf, np.nan, df['WarrantyCost'])\n",
    "df['WarrantyCost'] = df['WarrantyCost'].fillna(df['WarrantyCost'].mean())\n",
    "\n",
    "df['VehicleAge_decades'] = df['VehicleAge']/10\n",
    "df['VehOdo_lakhs'] = df['VehOdo']/100000\n",
    "df.shape"
   ]
  },
  {
   "cell_type": "code",
   "execution_count": 4,
   "metadata": {},
   "outputs": [
    {
     "data": {
      "text/plain": [
       "(98, 15)"
      ]
     },
     "execution_count": 4,
     "metadata": {},
     "output_type": "execute_result"
    }
   ],
   "source": [
    "df['Make'] = np.where(df['Make'].isin(['FORD','PONTIAC','SATURN']), 1, \n",
    "                      np.where(df['Make'].isin(['DODGE']), -1, 0))\n",
    "df['WheelType'] = np.where(df['WheelType'].isnull(), 1, -1)\n",
    "df['VNST'] = np.where(df['VNST']=='VA', 1, -1)\n",
    "df.shape"
   ]
  },
  {
   "cell_type": "code",
   "execution_count": 5,
   "metadata": {},
   "outputs": [
    {
     "data": {
      "text/plain": [
       "(98, 12)"
      ]
     },
     "execution_count": 5,
     "metadata": {},
     "output_type": "execute_result"
    }
   ],
   "source": [
    "df = df.drop(['VehicleAge','VehOdo','VehBCost'], axis=1)\n",
    "df.shape"
   ]
  },
  {
   "cell_type": "markdown",
   "metadata": {},
   "source": [
    "### 2. RF\n",
    "* separating out x and y\n",
    "* adding monotonic constraints\n",
    "* identifying optimal hyper-parameters\n",
    "* performance"
   ]
  },
  {
   "cell_type": "code",
   "execution_count": 6,
   "metadata": {},
   "outputs": [
    {
     "data": {
      "text/plain": [
       "(1, 1, 1, 1, 1, 1, 1, 1, 1, 1)"
      ]
     },
     "execution_count": 6,
     "metadata": {},
     "output_type": "execute_result"
    }
   ],
   "source": [
    "y = df['IsBadBuy']\n",
    "x = df.drop(['IsBadBuy','RefId'], axis=1)\n",
    "c = []\n",
    "for i in x.columns:\n",
    "    c.append(1)\n",
    "c = tuple(c)\n",
    "c"
   ]
  },
  {
   "cell_type": "code",
   "execution_count": 7,
   "metadata": {},
   "outputs": [
    {
     "name": "stdout",
     "output_type": "stream",
     "text": [
      "1.0\n",
      "{'max_depth': 2, 'min_samples_leaf': 2, 'n_estimators': 5}\n"
     ]
    }
   ],
   "source": [
    "parameters = {\"max_depth\": [2,5,10,20,50],\n",
    "              \"min_samples_leaf\": [2,5,10,20,50],\n",
    "              \"n_estimators\": [5,10,20,50,100,200,500,1000]}\n",
    "model = RandomForestClassifier(max_features='log2', monotonic_cst=c, random_state=0)\n",
    "grid_search = GridSearchCV(estimator=model, param_grid=parameters, scoring='roc_auc', cv=3, n_jobs=6)\n",
    "grid_search = grid_search.fit(x,y)\n",
    "print(grid_search.best_score_)\n",
    "print(grid_search.best_params_)"
   ]
  },
  {
   "cell_type": "code",
   "execution_count": 8,
   "metadata": {},
   "outputs": [
    {
     "name": "stdout",
     "output_type": "stream",
     "text": [
      "(98, 10)\n",
      "auc roc  : 1.0\n",
      "f1 score : 0.854\n"
     ]
    }
   ],
   "source": [
    "max_depth1 = grid_search.best_params_['max_depth']\n",
    "min_samples_leaf1 = grid_search.best_params_['min_samples_leaf']\n",
    "n_estimators1 = grid_search.best_params_['n_estimators']\n",
    "model = RandomForestClassifier(max_depth=max_depth1, min_samples_leaf=min_samples_leaf1, n_estimators=n_estimators1, \n",
    "                               max_features='log2', monotonic_cst=c, random_state=0)\n",
    "\n",
    "model.fit(x,y)\n",
    "print(x.shape)\n",
    "pred2 = []\n",
    "pred1 = model.predict_proba(x)[:,1]\n",
    "a1 = roc_auc_score(y,pred1)\n",
    "print('auc roc  :',np.round(a1,3))\n",
    "\n",
    "for j in pred1:\n",
    "    if j > 0.30: pred2.append(1)\n",
    "    else: pred2.append(0)\n",
    "c1 = confusion_matrix(y,pred2)\n",
    "p = c1[1][1] / (c1[0][1]+c1[1][1])\n",
    "r = c1[1][1] / (c1[1][0]+c1[1][1])\n",
    "f1 = (2*p*r) / (p+r)\n",
    "print('f1 score :',np.round(f1,3))"
   ]
  },
  {
   "cell_type": "markdown",
   "metadata": {},
   "source": [
    "### 3. test\n",
    "* finalizing the hyper parameters\n",
    "* saving the final hyper parameters"
   ]
  },
  {
   "cell_type": "code",
   "execution_count": 9,
   "metadata": {},
   "outputs": [
    {
     "data": {
      "text/html": [
       "<div>\n",
       "<style scoped>\n",
       "    .dataframe tbody tr th:only-of-type {\n",
       "        vertical-align: middle;\n",
       "    }\n",
       "\n",
       "    .dataframe tbody tr th {\n",
       "        vertical-align: top;\n",
       "    }\n",
       "\n",
       "    .dataframe thead th {\n",
       "        text-align: right;\n",
       "    }\n",
       "</style>\n",
       "<table border=\"1\" class=\"dataframe\">\n",
       "  <thead>\n",
       "    <tr style=\"text-align: right;\">\n",
       "      <th></th>\n",
       "      <th>count</th>\n",
       "      <th>mean</th>\n",
       "      <th>std</th>\n",
       "      <th>min</th>\n",
       "      <th>25%</th>\n",
       "      <th>50%</th>\n",
       "      <th>75%</th>\n",
       "      <th>max</th>\n",
       "    </tr>\n",
       "  </thead>\n",
       "  <tbody>\n",
       "    <tr>\n",
       "      <th>RefId</th>\n",
       "      <td>293.0</td>\n",
       "      <td>484.662116</td>\n",
       "      <td>350.670217</td>\n",
       "      <td>16.000000</td>\n",
       "      <td>185.000000</td>\n",
       "      <td>376.000000</td>\n",
       "      <td>926.000000</td>\n",
       "      <td>999.000000</td>\n",
       "    </tr>\n",
       "    <tr>\n",
       "      <th>IsBadBuy</th>\n",
       "      <td>293.0</td>\n",
       "      <td>0.457338</td>\n",
       "      <td>0.499029</td>\n",
       "      <td>0.000000</td>\n",
       "      <td>0.000000</td>\n",
       "      <td>0.000000</td>\n",
       "      <td>1.000000</td>\n",
       "      <td>1.000000</td>\n",
       "    </tr>\n",
       "    <tr>\n",
       "      <th>Make</th>\n",
       "      <td>293.0</td>\n",
       "      <td>0.098976</td>\n",
       "      <td>0.776649</td>\n",
       "      <td>-1.000000</td>\n",
       "      <td>-1.000000</td>\n",
       "      <td>0.000000</td>\n",
       "      <td>1.000000</td>\n",
       "      <td>1.000000</td>\n",
       "    </tr>\n",
       "    <tr>\n",
       "      <th>WheelType</th>\n",
       "      <td>293.0</td>\n",
       "      <td>-0.535836</td>\n",
       "      <td>0.845766</td>\n",
       "      <td>-1.000000</td>\n",
       "      <td>-1.000000</td>\n",
       "      <td>-1.000000</td>\n",
       "      <td>-1.000000</td>\n",
       "      <td>1.000000</td>\n",
       "    </tr>\n",
       "    <tr>\n",
       "      <th>MMRAcquisitionRetailAveragePrice</th>\n",
       "      <td>293.0</td>\n",
       "      <td>0.771152</td>\n",
       "      <td>0.143289</td>\n",
       "      <td>0.516369</td>\n",
       "      <td>0.664011</td>\n",
       "      <td>0.756496</td>\n",
       "      <td>0.856052</td>\n",
       "      <td>1.404270</td>\n",
       "    </tr>\n",
       "    <tr>\n",
       "      <th>MMRAcquisitonRetailCleanPrice</th>\n",
       "      <td>293.0</td>\n",
       "      <td>0.658503</td>\n",
       "      <td>0.107991</td>\n",
       "      <td>0.424541</td>\n",
       "      <td>0.580980</td>\n",
       "      <td>0.643627</td>\n",
       "      <td>0.726014</td>\n",
       "      <td>1.112867</td>\n",
       "    </tr>\n",
       "    <tr>\n",
       "      <th>MMRCurrentRetailAveragePrice</th>\n",
       "      <td>293.0</td>\n",
       "      <td>0.770498</td>\n",
       "      <td>0.127744</td>\n",
       "      <td>0.488752</td>\n",
       "      <td>0.680985</td>\n",
       "      <td>0.761968</td>\n",
       "      <td>0.842952</td>\n",
       "      <td>1.331971</td>\n",
       "    </tr>\n",
       "    <tr>\n",
       "      <th>MMRCurrentRetailCleanPrice</th>\n",
       "      <td>293.0</td>\n",
       "      <td>0.657406</td>\n",
       "      <td>0.095518</td>\n",
       "      <td>0.414563</td>\n",
       "      <td>0.593987</td>\n",
       "      <td>0.645927</td>\n",
       "      <td>0.712017</td>\n",
       "      <td>1.085917</td>\n",
       "    </tr>\n",
       "    <tr>\n",
       "      <th>VNST</th>\n",
       "      <td>293.0</td>\n",
       "      <td>-0.460751</td>\n",
       "      <td>0.889048</td>\n",
       "      <td>-1.000000</td>\n",
       "      <td>-1.000000</td>\n",
       "      <td>-1.000000</td>\n",
       "      <td>1.000000</td>\n",
       "      <td>1.000000</td>\n",
       "    </tr>\n",
       "    <tr>\n",
       "      <th>WarrantyCost</th>\n",
       "      <td>293.0</td>\n",
       "      <td>0.207279</td>\n",
       "      <td>0.126297</td>\n",
       "      <td>0.063317</td>\n",
       "      <td>0.126000</td>\n",
       "      <td>0.171963</td>\n",
       "      <td>0.263077</td>\n",
       "      <td>1.242898</td>\n",
       "    </tr>\n",
       "    <tr>\n",
       "      <th>VehicleAge_decades</th>\n",
       "      <td>293.0</td>\n",
       "      <td>0.496928</td>\n",
       "      <td>0.156669</td>\n",
       "      <td>0.100000</td>\n",
       "      <td>0.400000</td>\n",
       "      <td>0.500000</td>\n",
       "      <td>0.600000</td>\n",
       "      <td>0.900000</td>\n",
       "    </tr>\n",
       "    <tr>\n",
       "      <th>VehOdo_lakhs</th>\n",
       "      <td>293.0</td>\n",
       "      <td>0.706748</td>\n",
       "      <td>0.123916</td>\n",
       "      <td>0.326710</td>\n",
       "      <td>0.611000</td>\n",
       "      <td>0.714230</td>\n",
       "      <td>0.807000</td>\n",
       "      <td>0.983580</td>\n",
       "    </tr>\n",
       "  </tbody>\n",
       "</table>\n",
       "</div>"
      ],
      "text/plain": [
       "                                  count        mean         std        min  \\\n",
       "RefId                             293.0  484.662116  350.670217  16.000000   \n",
       "IsBadBuy                          293.0    0.457338    0.499029   0.000000   \n",
       "Make                              293.0    0.098976    0.776649  -1.000000   \n",
       "WheelType                         293.0   -0.535836    0.845766  -1.000000   \n",
       "MMRAcquisitionRetailAveragePrice  293.0    0.771152    0.143289   0.516369   \n",
       "MMRAcquisitonRetailCleanPrice     293.0    0.658503    0.107991   0.424541   \n",
       "MMRCurrentRetailAveragePrice      293.0    0.770498    0.127744   0.488752   \n",
       "MMRCurrentRetailCleanPrice        293.0    0.657406    0.095518   0.414563   \n",
       "VNST                              293.0   -0.460751    0.889048  -1.000000   \n",
       "WarrantyCost                      293.0    0.207279    0.126297   0.063317   \n",
       "VehicleAge_decades                293.0    0.496928    0.156669   0.100000   \n",
       "VehOdo_lakhs                      293.0    0.706748    0.123916   0.326710   \n",
       "\n",
       "                                         25%         50%         75%  \\\n",
       "RefId                             185.000000  376.000000  926.000000   \n",
       "IsBadBuy                            0.000000    0.000000    1.000000   \n",
       "Make                               -1.000000    0.000000    1.000000   \n",
       "WheelType                          -1.000000   -1.000000   -1.000000   \n",
       "MMRAcquisitionRetailAveragePrice    0.664011    0.756496    0.856052   \n",
       "MMRAcquisitonRetailCleanPrice       0.580980    0.643627    0.726014   \n",
       "MMRCurrentRetailAveragePrice        0.680985    0.761968    0.842952   \n",
       "MMRCurrentRetailCleanPrice          0.593987    0.645927    0.712017   \n",
       "VNST                               -1.000000   -1.000000    1.000000   \n",
       "WarrantyCost                        0.126000    0.171963    0.263077   \n",
       "VehicleAge_decades                  0.400000    0.500000    0.600000   \n",
       "VehOdo_lakhs                        0.611000    0.714230    0.807000   \n",
       "\n",
       "                                         max  \n",
       "RefId                             999.000000  \n",
       "IsBadBuy                            1.000000  \n",
       "Make                                1.000000  \n",
       "WheelType                           1.000000  \n",
       "MMRAcquisitionRetailAveragePrice    1.404270  \n",
       "MMRAcquisitonRetailCleanPrice       1.112867  \n",
       "MMRCurrentRetailAveragePrice        1.331971  \n",
       "MMRCurrentRetailCleanPrice          1.085917  \n",
       "VNST                                1.000000  \n",
       "WarrantyCost                        1.242898  \n",
       "VehicleAge_decades                  0.900000  \n",
       "VehOdo_lakhs                        0.983580  "
      ]
     },
     "execution_count": 9,
     "metadata": {},
     "output_type": "execute_result"
    }
   ],
   "source": [
    "df0 = pd.read_csv('04 model test data.csv')\n",
    "df0 = pd.concat([df0,df])\n",
    "df0.to_csv('04 model test data.csv', index=False)\n",
    "df0.describe().T"
   ]
  },
  {
   "cell_type": "code",
   "execution_count": 10,
   "metadata": {},
   "outputs": [
    {
     "name": "stdout",
     "output_type": "stream",
     "text": [
      "                    1   0      2\n",
      "obs               195  98  293.0\n",
      "max_depth           2   2    2.0\n",
      "min_samples_leaf    2   2    2.0\n",
      "n_estimators      150   5  102.0\n"
     ]
    }
   ],
   "source": [
    "df0 = pd.read_csv('04 model test hyper param.csv', header=None, index_col=0)\n",
    "df1 = pd.DataFrame({'obs':[x.shape[0]], 'max_depth':[max_depth1], 'min_samples_leaf':[min_samples_leaf1],\n",
    "                    'n_estimators':[n_estimators1]}).T\n",
    "df0 = pd.concat([df0,df1], axis=1)\n",
    "df0[2] = np.round(df0.mean(axis=1),0)\n",
    "df0[2]['obs'] = df0[0]['obs'] + df0[1]['obs']\n",
    "df0[2]['max_depth'] = np.round((df0[0]['max_depth']*df0[0]['obs'] + df0[1]['max_depth']*df0[1]['obs'])/df0[2]['obs'])\n",
    "df0[2]['min_samples_leaf'] = np.round((df0[0]['min_samples_leaf']*df0[0]['obs'] + df0[1]['min_samples_leaf']*df0[1]['obs'])/df0[2]['obs'])\n",
    "df0[2]['n_estimators'] = np.round((df0[0]['n_estimators']*df0[0]['obs'] + df0[1]['n_estimators']*df0[1]['obs'])/df0[2]['obs'])\n",
    "print(df0)"
   ]
  },
  {
   "cell_type": "code",
   "execution_count": 11,
   "metadata": {},
   "outputs": [
    {
     "data": {
      "text/plain": [
       "(4, 1)"
      ]
     },
     "execution_count": 11,
     "metadata": {},
     "output_type": "execute_result"
    }
   ],
   "source": [
    "df0 = df0[[2]]\n",
    "df0.to_csv('04 model test hyper param.csv', header=None)\n",
    "df0.shape"
   ]
  }
 ],
 "metadata": {
  "colab": {
   "provenance": []
  },
  "kernelspec": {
   "display_name": "base",
   "language": "python",
   "name": "python3"
  },
  "language_info": {
   "codemirror_mode": {
    "name": "ipython",
    "version": 3
   },
   "file_extension": ".py",
   "mimetype": "text/x-python",
   "name": "python",
   "nbconvert_exporter": "python",
   "pygments_lexer": "ipython3",
   "version": "3.11.5"
  }
 },
 "nbformat": 4,
 "nbformat_minor": 1
}
