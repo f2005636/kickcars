{
 "cells": [
  {
   "cell_type": "code",
   "execution_count": 36,
   "metadata": {},
   "outputs": [],
   "source": [
    "import warnings\n",
    "warnings.filterwarnings(\"ignore\")\n",
    "import numpy as np\n",
    "import pandas as pd\n",
    "pd.set_option('display.max_columns', None)\n",
    "from sklearn.model_selection import GridSearchCV\n",
    "from sklearn.ensemble import RandomForestClassifier\n",
    "from sklearn.metrics import confusion_matrix, roc_auc_score"
   ]
  },
  {
   "cell_type": "markdown",
   "metadata": {
    "id": "IxMV0DNjRppJ"
   },
   "source": [
    "### 1. importing dataset\n",
    "* separating out x and y\n",
    "* adding monotonic constraints"
   ]
  },
  {
   "cell_type": "code",
   "execution_count": 37,
   "metadata": {},
   "outputs": [
    {
     "name": "stdout",
     "output_type": "stream",
     "text": [
      "(129, 12)\n",
      "(66, 12)\n"
     ]
    }
   ],
   "source": [
    "s0 = pd.read_csv('02 data split 0.csv')\n",
    "s1 = pd.read_csv('02 data split 1.csv')\n",
    "s2 = pd.read_csv('02 data split 2.csv')\n",
    "\n",
    "train = pd.concat([s1,s2])\n",
    "print(train.shape)\n",
    "test = s0\n",
    "print(test.shape)"
   ]
  },
  {
   "cell_type": "code",
   "execution_count": 38,
   "metadata": {},
   "outputs": [
    {
     "data": {
      "text/plain": [
       "(1, 1, 1, 1, 1, 1, 1, 1, 1, 1)"
      ]
     },
     "execution_count": 38,
     "metadata": {},
     "output_type": "execute_result"
    }
   ],
   "source": [
    "y = train['IsBadBuy']\n",
    "x = train.drop(['IsBadBuy','RefId'], axis=1)\n",
    "c = []\n",
    "for i in x.columns:\n",
    "    c.append(1)\n",
    "c = tuple(c)\n",
    "c"
   ]
  },
  {
   "cell_type": "markdown",
   "metadata": {},
   "source": [
    "### 2. RF\n",
    "* identifying optimal hyper-parameters\n",
    "* performance"
   ]
  },
  {
   "cell_type": "code",
   "execution_count": 39,
   "metadata": {},
   "outputs": [
    {
     "name": "stdout",
     "output_type": "stream",
     "text": [
      "0.7421582249168456\n",
      "{'max_depth': 2, 'min_samples_leaf': 2, 'n_estimators': 200}\n"
     ]
    }
   ],
   "source": [
    "parameters = {\"max_depth\": [2,5,10],\n",
    "              \"min_samples_leaf\": [2,5,10],\n",
    "              \"n_estimators\": [50,100,200,500,1000]}\n",
    "model = RandomForestClassifier(max_features='log2', monotonic_cst=c, random_state=0)\n",
    "grid_search = GridSearchCV(estimator=model, param_grid=parameters, scoring='roc_auc', cv=3, n_jobs=6)\n",
    "grid_search = grid_search.fit(x,y)\n",
    "print(grid_search.best_score_)\n",
    "print(grid_search.best_params_)"
   ]
  },
  {
   "cell_type": "code",
   "execution_count": 40,
   "metadata": {},
   "outputs": [
    {
     "name": "stdout",
     "output_type": "stream",
     "text": [
      "(129, 10)\n",
      "auc roc  : 0.825\n",
      "f1 score : 0.705\n"
     ]
    }
   ],
   "source": [
    "model = RandomForestClassifier(max_depth=2, min_samples_leaf=2, n_estimators=200, \n",
    "                               max_features='log2', monotonic_cst=c, random_state=0)\n",
    "\n",
    "model.fit(x,y)\n",
    "print(x.shape)\n",
    "pred2 = []\n",
    "pred1 = model.predict_proba(x)[:,1]\n",
    "a1 = roc_auc_score(y,pred1)\n",
    "print('auc roc  :',np.round(a1,3))\n",
    "\n",
    "for j in pred1:\n",
    "    if j > 0.30: pred2.append(1)\n",
    "    else: pred2.append(0)\n",
    "c1 = confusion_matrix(y,pred2)\n",
    "p = c1[1][1] / (c1[0][1]+c1[1][1])\n",
    "r = c1[1][1] / (c1[1][0]+c1[1][1])\n",
    "f1 = (2*p*r) / (p+r)\n",
    "print('f1 score :',np.round(f1,3))"
   ]
  },
  {
   "cell_type": "markdown",
   "metadata": {},
   "source": [
    "### 3. test\n",
    "* adding monotonic constraints\n",
    "* performance"
   ]
  },
  {
   "cell_type": "code",
   "execution_count": 41,
   "metadata": {},
   "outputs": [
    {
     "data": {
      "text/plain": [
       "(1, 1, 1, 1, 1, 1, 1, 1, 1, 1)"
      ]
     },
     "execution_count": 41,
     "metadata": {},
     "output_type": "execute_result"
    }
   ],
   "source": [
    "y = test['IsBadBuy']\n",
    "x = test.drop(['IsBadBuy','RefId'], axis=1)\n",
    "c = []\n",
    "for i in x.columns:\n",
    "    c.append(1)\n",
    "c = tuple(c)\n",
    "c"
   ]
  },
  {
   "cell_type": "code",
   "execution_count": 42,
   "metadata": {},
   "outputs": [
    {
     "name": "stdout",
     "output_type": "stream",
     "text": [
      "(66, 10)\n",
      "auc roc  : 0.871\n",
      "f1 score : 0.735\n"
     ]
    }
   ],
   "source": [
    "model.fit(x,y)\n",
    "print(x.shape)\n",
    "pred2 = []\n",
    "pred1 = model.predict_proba(x)[:,1]\n",
    "a1 = roc_auc_score(y,pred1)\n",
    "print('auc roc  :',np.round(a1,3))\n",
    "\n",
    "for j in pred1:\n",
    "    if j > 0.30: pred2.append(1)\n",
    "    else: pred2.append(0)\n",
    "c1 = confusion_matrix(y,pred2)\n",
    "p = c1[1][1] / (c1[0][1]+c1[1][1])\n",
    "r = c1[1][1] / (c1[1][0]+c1[1][1])\n",
    "f1 = (2*p*r) / (p+r)\n",
    "print('f1 score :',np.round(f1,3))"
   ]
  }
 ],
 "metadata": {
  "colab": {
   "provenance": []
  },
  "kernelspec": {
   "display_name": "base",
   "language": "python",
   "name": "python3"
  },
  "language_info": {
   "codemirror_mode": {
    "name": "ipython",
    "version": 3
   },
   "file_extension": ".py",
   "mimetype": "text/x-python",
   "name": "python",
   "nbconvert_exporter": "python",
   "pygments_lexer": "ipython3",
   "version": "3.11.5"
  }
 },
 "nbformat": 4,
 "nbformat_minor": 1
}
