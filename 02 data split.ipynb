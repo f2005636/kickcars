{
 "cells": [
  {
   "cell_type": "code",
   "execution_count": 1,
   "metadata": {},
   "outputs": [],
   "source": [
    "import warnings\n",
    "warnings.filterwarnings(\"ignore\")\n",
    "import numpy as np\n",
    "import pandas as pd\n",
    "pd.set_option('display.max_columns', None)\n",
    "from sklearn.model_selection import GridSearchCV\n",
    "from sklearn.ensemble import RandomForestClassifier\n",
    "from sklearn.metrics import confusion_matrix, roc_auc_score"
   ]
  },
  {
   "cell_type": "markdown",
   "metadata": {
    "id": "IxMV0DNjRppJ"
   },
   "source": [
    "### 1. importing dataset\n",
    "* separating out x and y\n",
    "* adding monotonic constraints"
   ]
  },
  {
   "cell_type": "code",
   "execution_count": 2,
   "metadata": {},
   "outputs": [
    {
     "data": {
      "text/plain": [
       "(195, 20)"
      ]
     },
     "execution_count": 2,
     "metadata": {},
     "output_type": "execute_result"
    }
   ],
   "source": [
    "df = pd.read_csv('01 data prep.csv')\n",
    "y = df['IsBadBuy']\n",
    "x = df.drop(['IsBadBuy','RefId'], axis=1)\n",
    "df.shape"
   ]
  },
  {
   "cell_type": "code",
   "execution_count": 3,
   "metadata": {},
   "outputs": [
    {
     "data": {
      "text/plain": [
       "(1, 1, 1, 1, 1, 1, 1, 1, 1, 1, 1, 1, 1, 1, 1, 1, 1, 1)"
      ]
     },
     "execution_count": 3,
     "metadata": {},
     "output_type": "execute_result"
    }
   ],
   "source": [
    "c = []\n",
    "for i in x.columns:\n",
    "    c.append(1)\n",
    "c = tuple(c)\n",
    "c"
   ]
  },
  {
   "cell_type": "markdown",
   "metadata": {},
   "source": [
    "### 2. RF\n",
    "* identifying optimal hyper-parameters\n",
    "* feature importance"
   ]
  },
  {
   "cell_type": "code",
   "execution_count": 4,
   "metadata": {},
   "outputs": [
    {
     "name": "stdout",
     "output_type": "stream",
     "text": [
      "0.7453679653679653\n",
      "{'max_depth': 2, 'min_samples_leaf': 2, 'n_estimators': 500}\n"
     ]
    }
   ],
   "source": [
    "parameters = {\"max_depth\": [2,5,10],\n",
    "              \"min_samples_leaf\": [2,5,10],\n",
    "              \"n_estimators\": [200,500,1000]}\n",
    "model = RandomForestClassifier(max_features='log2', monotonic_cst=c, random_state=0)\n",
    "grid_search = GridSearchCV(estimator=model, param_grid=parameters, scoring='roc_auc', cv=3, n_jobs=6)\n",
    "grid_search = grid_search.fit(x,y)\n",
    "print(grid_search.best_score_)\n",
    "print(grid_search.best_params_)"
   ]
  },
  {
   "cell_type": "code",
   "execution_count": 5,
   "metadata": {},
   "outputs": [
    {
     "name": "stdout",
     "output_type": "stream",
     "text": [
      "                              Feature      Gini\n",
      "2                           WheelType  0.198869\n",
      "7    MMRAcquisitionRetailAveragePrice  0.110675\n",
      "16                 VehicleAge_decades  0.102326\n",
      "11       MMRCurrentRetailAveragePrice  0.087252\n",
      "15                       WarrantyCost  0.075165\n",
      "8       MMRAcquisitonRetailCleanPrice  0.069567\n",
      "0                                Make  0.069541\n",
      "14                               VNST  0.055519\n",
      "12         MMRCurrentRetailCleanPrice  0.052389\n",
      "17                       VehOdo_lakhs  0.043205\n",
      "5   MMRAcquisitionAuctionAveragePrice  0.025137\n",
      "9       MMRCurrentAuctionAveragePrice  0.022870\n",
      "1                        Transmission  0.020297\n",
      "10        MMRCurrentAuctionCleanPrice  0.019053\n",
      "6     MMRAcquisitionAuctionCleanPrice  0.018307\n",
      "4                                Size  0.015585\n",
      "13                          PRIMEUNIT  0.011424\n",
      "3                         Nationality  0.002820\n"
     ]
    }
   ],
   "source": [
    "model = RandomForestClassifier(max_depth=2, min_samples_leaf=2, n_estimators=500, \n",
    "                               max_features='log2', monotonic_cst=c, random_state=0)\n",
    "model.fit(x,y)\n",
    "importances = model.feature_importances_\n",
    "gb = pd.DataFrame({'Feature':x.columns,'Gini':importances}).sort_values('Gini', ascending=False) \n",
    "print(gb)"
   ]
  },
  {
   "cell_type": "markdown",
   "metadata": {},
   "source": [
    "### 3. optimal cut-off for f1-score\n",
    "* cut-off from 0.05 to 0.65 are tested\n",
    "* the cut-off where the f1-score is highest is selected"
   ]
  },
  {
   "cell_type": "code",
   "execution_count": 6,
   "metadata": {},
   "outputs": [
    {
     "name": "stdout",
     "output_type": "stream",
     "text": [
      "5 \t 0.477\n",
      "10 \t 0.477\n",
      "15 \t 0.477\n",
      "20 \t 0.494\n",
      "25 \t 0.58\n",
      "30 \t 0.696\n",
      "35 \t 0.615\n",
      "40 \t 0.64\n",
      "45 \t 0.444\n",
      "50 \t 0.347\n",
      "55 \t 0.229\n",
      "60 \t 0.152\n",
      "65 \t 0.094\n"
     ]
    }
   ],
   "source": [
    "for i in range(5,70,5):\n",
    "    pred2 = []\n",
    "    pred1 = model.predict_proba(x)[:,1]\n",
    "    for j in pred1:\n",
    "        if j > i/100: pred2.append(1)\n",
    "        else: pred2.append(0)\n",
    "    c1 = confusion_matrix(y,pred2)\n",
    "    p = c1[1][1] / (c1[0][1]+c1[1][1])\n",
    "    r = c1[1][1] / (c1[1][0]+c1[1][1])\n",
    "    f1 = (2*p*r) / (p+r)\n",
    "    print(i,'\\t',np.round(f1,3))"
   ]
  },
  {
   "cell_type": "markdown",
   "metadata": {},
   "source": [
    "### 4. data splits\n",
    "* top 4 variables are used to sort the data\n",
    "* 0/1 are separated out and 3 splits are created"
   ]
  },
  {
   "cell_type": "code",
   "execution_count": 7,
   "metadata": {},
   "outputs": [
    {
     "name": "stdout",
     "output_type": "stream",
     "text": [
      "non event : (134, 26)\n",
      "event : (61, 26)\n"
     ]
    }
   ],
   "source": [
    "for i in ['WheelType','MMRAcquisitionRetailAveragePrice','VehicleAge_decades',\n",
    "          'MMRCurrentRetailAveragePrice','WarrantyCost']:\n",
    "    df[i+'bin'] = np.where(df[i].isnull(), 'Q0', \n",
    "                           np.where(df[i]<=np.percentile(df[i],25), 'Q1', \n",
    "                                    np.where(df[i]<=np.percentile(df[i],50), 'Q2', \n",
    "                                             np.where(df[i]<=np.percentile(df[i],75), 'Q3', 'Q4'))))\n",
    "df = df.sort_values(['WheelTypebin','MMRAcquisitionRetailAveragePricebin','VehicleAge_decadesbin',\n",
    "                     'MMRCurrentRetailAveragePricebin','WarrantyCostbin']).reset_index(drop=True)\n",
    "df0 = df[df['IsBadBuy']==0].reset_index(drop=True).reset_index()\n",
    "df1 = df[df['IsBadBuy']==1].reset_index(drop=True).reset_index()\n",
    "print('non event :',df0.shape)\n",
    "print('event :',df1.shape)"
   ]
  },
  {
   "cell_type": "code",
   "execution_count": 8,
   "metadata": {},
   "outputs": [
    {
     "name": "stdout",
     "output_type": "stream",
     "text": [
      "1st split : (66, 12)\n",
      "2nd split : (65, 12)\n",
      "3rd split : (64, 12)\n"
     ]
    }
   ],
   "source": [
    "split0 = pd.concat([df0[df0['index']%3==0], df1[df1['index']%3==0]])\n",
    "split0 = split0.drop(['index','WheelTypebin','MMRAcquisitionRetailAveragePricebin','VehicleAge_decadesbin',\n",
    "                      'MMRCurrentRetailAveragePricebin','WarrantyCostbin','MMRAcquisitionAuctionAveragePrice',\n",
    "                      'MMRCurrentAuctionAveragePrice','Transmission','MMRCurrentAuctionCleanPrice',\n",
    "                      'MMRAcquisitionAuctionCleanPrice','Size','PRIMEUNIT','Nationality'], axis=1)\n",
    "print('1st split :',split0.shape)\n",
    "\n",
    "split1 = pd.concat([df0[df0['index']%3==1], df1[df1['index']%3==1]])\n",
    "split1 = split1.drop(['index','WheelTypebin','MMRAcquisitionRetailAveragePricebin','VehicleAge_decadesbin',\n",
    "                      'MMRCurrentRetailAveragePricebin','WarrantyCostbin','MMRAcquisitionAuctionAveragePrice',\n",
    "                      'MMRCurrentAuctionAveragePrice','Transmission','MMRCurrentAuctionCleanPrice',\n",
    "                      'MMRAcquisitionAuctionCleanPrice','Size','PRIMEUNIT','Nationality'], axis=1)\n",
    "print('2nd split :',split1.shape)\n",
    "\n",
    "split2 = pd.concat([df0[df0['index']%3==2], df1[df1['index']%3==2]])\n",
    "split2 = split2.drop(['index','WheelTypebin','MMRAcquisitionRetailAveragePricebin','VehicleAge_decadesbin',\n",
    "                      'MMRCurrentRetailAveragePricebin','WarrantyCostbin','MMRAcquisitionAuctionAveragePrice',\n",
    "                      'MMRCurrentAuctionAveragePrice','Transmission','MMRCurrentAuctionCleanPrice',\n",
    "                      'MMRAcquisitionAuctionCleanPrice','Size','PRIMEUNIT','Nationality'], axis=1)\n",
    "print('3rd split :',split2.shape)"
   ]
  },
  {
   "cell_type": "markdown",
   "metadata": {},
   "source": [
    "### 5. exporting dataset\n",
    "* exporting all the three datasets\n",
    "* training on s0+s1 and testing on s2\n",
    "* training on s1+s2 and testing on s0\n",
    "* training on s2+s0 and testing on s1"
   ]
  },
  {
   "cell_type": "code",
   "execution_count": 9,
   "metadata": {},
   "outputs": [
    {
     "data": {
      "text/plain": [
       "(195, 12)"
      ]
     },
     "execution_count": 9,
     "metadata": {},
     "output_type": "execute_result"
    }
   ],
   "source": [
    "split0.to_csv('02 data split 0.csv', index=False)\n",
    "split1.to_csv('02 data split 1.csv', index=False)\n",
    "split2.to_csv('02 data split 2.csv', index=False)\n",
    "\n",
    "df = pd.concat([split0,split1,split2])\n",
    "df.to_csv('04 model test data.csv', index=False)\n",
    "df.shape"
   ]
  }
 ],
 "metadata": {
  "colab": {
   "provenance": []
  },
  "kernelspec": {
   "display_name": "base",
   "language": "python",
   "name": "python3"
  },
  "language_info": {
   "codemirror_mode": {
    "name": "ipython",
    "version": 3
   },
   "file_extension": ".py",
   "mimetype": "text/x-python",
   "name": "python",
   "nbconvert_exporter": "python",
   "pygments_lexer": "ipython3",
   "version": "3.11.5"
  }
 },
 "nbformat": 4,
 "nbformat_minor": 1
}
